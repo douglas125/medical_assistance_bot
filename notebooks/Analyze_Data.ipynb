{
 "cells": [
  {
   "cell_type": "markdown",
   "id": "aa230e8a-8e9c-435c-bc9f-291f3a90b07a",
   "metadata": {},
   "source": [
    "# Analyze data and LLM answers"
   ]
  },
  {
   "cell_type": "code",
   "execution_count": 1,
   "id": "a7ec2427-702e-4a47-8477-172e0568759d",
   "metadata": {},
   "outputs": [],
   "source": [
    "import pandas as pd\n",
    "import gat_llm.llm_invoker as inv\n",
    "from tqdm.auto import tqdm\n",
    "\n",
    "%load_ext autoreload\n",
    "%autoreload 2\n",
    "\n",
    "import medqa.judge\n",
    "from medqa.datasplit import get_split\n",
    "from medqa.qa_retrieval_agent import QARetrievalAgent\n",
    "from medqa.glove_retriever import GloVeSimilarity"
   ]
  },
  {
   "cell_type": "markdown",
   "id": "77d4f8c4-d2a6-4beb-9a2b-11fc3f6fce11",
   "metadata": {},
   "source": [
    "## Create LLMs to evaluate"
   ]
  },
  {
   "cell_type": "code",
   "execution_count": 2,
   "id": "ab5a8c54-2b4a-46ee-b761-461de230430d",
   "metadata": {},
   "outputs": [],
   "source": [
    "llm_name = \"Qwen 3 1.7b - Ollama\"\n",
    "llm = inv.LLM_Provider.get_llm(None, llm_name)\n",
    "\n",
    "medqa_prompt = \"\"\"You are medical question-answering system expert at providing medical information.\n",
    "Your goal is to effectively answer user queries related to medical diseases.\n",
    "Refuse to answer questions not related to your expertise.\"\"\"\n",
    "\n",
    "judge_llm = medqa.judge.AnswerJudge()"
   ]
  },
  {
   "cell_type": "code",
   "execution_count": null,
   "id": "039d79ac-d1d0-4ad9-ac51-a615c35974db",
   "metadata": {},
   "outputs": [],
   "source": []
  },
  {
   "cell_type": "code",
   "execution_count": null,
   "id": "80368245-b548-49cb-b307-8acdf597c9aa",
   "metadata": {},
   "outputs": [],
   "source": []
  },
  {
   "cell_type": "markdown",
   "id": "aac6c11b-2c2a-4e46-8c0b-26cd1089be77",
   "metadata": {},
   "source": [
    "## Load data"
   ]
  },
  {
   "cell_type": "code",
   "execution_count": 3,
   "id": "f85ae214-3410-41ff-acc8-2750b1389e1c",
   "metadata": {},
   "outputs": [],
   "source": [
    "file = \"data/intern_screening_dataset.csv\"\n",
    "df = pd.read_csv(file)\n",
    "row_split = [get_split(x) for x in list(df.index)]\n",
    "df[\"split\"] = row_split"
   ]
  },
  {
   "cell_type": "code",
   "execution_count": 4,
   "id": "f23abe08-3add-4935-a94f-23849b4f6f23",
   "metadata": {},
   "outputs": [
    {
     "data": {
      "text/html": [
       "<div>\n",
       "<style scoped>\n",
       "    .dataframe tbody tr th:only-of-type {\n",
       "        vertical-align: middle;\n",
       "    }\n",
       "\n",
       "    .dataframe tbody tr th {\n",
       "        vertical-align: top;\n",
       "    }\n",
       "\n",
       "    .dataframe thead th {\n",
       "        text-align: right;\n",
       "    }\n",
       "</style>\n",
       "<table border=\"1\" class=\"dataframe\">\n",
       "  <thead>\n",
       "    <tr style=\"text-align: right;\">\n",
       "      <th></th>\n",
       "      <th>question</th>\n",
       "      <th>answer</th>\n",
       "      <th>split</th>\n",
       "    </tr>\n",
       "  </thead>\n",
       "  <tbody>\n",
       "    <tr>\n",
       "      <th>0</th>\n",
       "      <td>What is (are) Glaucoma ?</td>\n",
       "      <td>Glaucoma is a group of diseases that can damag...</td>\n",
       "      <td>train</td>\n",
       "    </tr>\n",
       "    <tr>\n",
       "      <th>1</th>\n",
       "      <td>What is (are) Glaucoma ?</td>\n",
       "      <td>The optic nerve is a bundle of more than 1 mil...</td>\n",
       "      <td>train</td>\n",
       "    </tr>\n",
       "    <tr>\n",
       "      <th>2</th>\n",
       "      <td>What is (are) Glaucoma ?</td>\n",
       "      <td>Open-angle glaucoma is the most common form of...</td>\n",
       "      <td>train</td>\n",
       "    </tr>\n",
       "    <tr>\n",
       "      <th>3</th>\n",
       "      <td>Who is at risk for Glaucoma? ?</td>\n",
       "      <td>Anyone can develop glaucoma. Some people are a...</td>\n",
       "      <td>train</td>\n",
       "    </tr>\n",
       "    <tr>\n",
       "      <th>4</th>\n",
       "      <td>How to prevent Glaucoma ?</td>\n",
       "      <td>At this time, we do not know how to prevent gl...</td>\n",
       "      <td>train</td>\n",
       "    </tr>\n",
       "    <tr>\n",
       "      <th>...</th>\n",
       "      <td>...</td>\n",
       "      <td>...</td>\n",
       "      <td>...</td>\n",
       "    </tr>\n",
       "    <tr>\n",
       "      <th>16401</th>\n",
       "      <td>What is (are) Diabetic Neuropathies: The Nerve...</td>\n",
       "      <td>Autonomic neuropathy affects the nerves that c...</td>\n",
       "      <td>train</td>\n",
       "    </tr>\n",
       "    <tr>\n",
       "      <th>16402</th>\n",
       "      <td>What is (are) Diabetic Neuropathies: The Nerve...</td>\n",
       "      <td>Proximal neuropathy, sometimes called lumbosac...</td>\n",
       "      <td>train</td>\n",
       "    </tr>\n",
       "    <tr>\n",
       "      <th>16403</th>\n",
       "      <td>What is (are) Diabetic Neuropathies: The Nerve...</td>\n",
       "      <td>Focal neuropathy appears suddenly and affects ...</td>\n",
       "      <td>train</td>\n",
       "    </tr>\n",
       "    <tr>\n",
       "      <th>16404</th>\n",
       "      <td>How to prevent Diabetic Neuropathies: The Nerv...</td>\n",
       "      <td>The best way to prevent neuropathy is to keep ...</td>\n",
       "      <td>test</td>\n",
       "    </tr>\n",
       "    <tr>\n",
       "      <th>16405</th>\n",
       "      <td>How to diagnose Diabetic Neuropathies: The Ner...</td>\n",
       "      <td>Doctors diagnose neuropathy on the basis of sy...</td>\n",
       "      <td>test</td>\n",
       "    </tr>\n",
       "  </tbody>\n",
       "</table>\n",
       "<p>16406 rows × 3 columns</p>\n",
       "</div>"
      ],
      "text/plain": [
       "                                                question  \\\n",
       "0                               What is (are) Glaucoma ?   \n",
       "1                               What is (are) Glaucoma ?   \n",
       "2                               What is (are) Glaucoma ?   \n",
       "3                         Who is at risk for Glaucoma? ?   \n",
       "4                              How to prevent Glaucoma ?   \n",
       "...                                                  ...   \n",
       "16401  What is (are) Diabetic Neuropathies: The Nerve...   \n",
       "16402  What is (are) Diabetic Neuropathies: The Nerve...   \n",
       "16403  What is (are) Diabetic Neuropathies: The Nerve...   \n",
       "16404  How to prevent Diabetic Neuropathies: The Nerv...   \n",
       "16405  How to diagnose Diabetic Neuropathies: The Ner...   \n",
       "\n",
       "                                                  answer  split  \n",
       "0      Glaucoma is a group of diseases that can damag...  train  \n",
       "1      The optic nerve is a bundle of more than 1 mil...  train  \n",
       "2      Open-angle glaucoma is the most common form of...  train  \n",
       "3      Anyone can develop glaucoma. Some people are a...  train  \n",
       "4      At this time, we do not know how to prevent gl...  train  \n",
       "...                                                  ...    ...  \n",
       "16401  Autonomic neuropathy affects the nerves that c...  train  \n",
       "16402  Proximal neuropathy, sometimes called lumbosac...  train  \n",
       "16403  Focal neuropathy appears suddenly and affects ...  train  \n",
       "16404  The best way to prevent neuropathy is to keep ...   test  \n",
       "16405  Doctors diagnose neuropathy on the basis of sy...   test  \n",
       "\n",
       "[16406 rows x 3 columns]"
      ]
     },
     "execution_count": 4,
     "metadata": {},
     "output_type": "execute_result"
    }
   ],
   "source": [
    "df"
   ]
  },
  {
   "cell_type": "code",
   "execution_count": 5,
   "id": "073a2439-a7b9-487f-ba71-da2a3d5835ac",
   "metadata": {},
   "outputs": [],
   "source": [
    "df[df.split == \"train\"][\"question\"].to_csv(\"data/train_questions.csv\")"
   ]
  },
  {
   "cell_type": "code",
   "execution_count": 6,
   "id": "ec6f6b6a-a4d2-482f-8ec2-c7505c90f088",
   "metadata": {},
   "outputs": [
    {
     "data": {
      "application/vnd.jupyter.widget-view+json": {
       "model_id": "588651ba35004559b8399f1a3b65416f",
       "version_major": 2,
       "version_minor": 0
      },
      "text/plain": [
       "Reading GloVe:   0%|          | 0/400000 [00:00<?, ?it/s]"
      ]
     },
     "metadata": {},
     "output_type": "display_data"
    },
    {
     "data": {
      "application/vnd.jupyter.widget-view+json": {
       "model_id": "95f90c0ad4634f419f126d731b8a5c26",
       "version_major": 2,
       "version_minor": 0
      },
      "text/plain": [
       "Precomputing QA embeddings:   0%|          | 0/13042 [00:00<?, ?it/s]"
      ]
     },
     "metadata": {},
     "output_type": "display_data"
    }
   ],
   "source": [
    "qara = QARetrievalAgent(df[df.split == \"train\"])"
   ]
  },
  {
   "cell_type": "code",
   "execution_count": 7,
   "id": "47d8531c-091c-4f4b-adb0-f059c91e31c5",
   "metadata": {},
   "outputs": [],
   "source": [
    "# import json\n",
    "# with open(\"temp.json\", \"w\") as f:\n",
    "#    f.write(json.dumps(qara.questions))"
   ]
  },
  {
   "cell_type": "code",
   "execution_count": 8,
   "id": "cbd22151-97e8-4e8e-976a-61978a969d75",
   "metadata": {},
   "outputs": [
    {
     "data": {
      "text/html": [
       "<div>\n",
       "<style scoped>\n",
       "    .dataframe tbody tr th:only-of-type {\n",
       "        vertical-align: middle;\n",
       "    }\n",
       "\n",
       "    .dataframe tbody tr th {\n",
       "        vertical-align: top;\n",
       "    }\n",
       "\n",
       "    .dataframe thead th {\n",
       "        text-align: right;\n",
       "    }\n",
       "</style>\n",
       "<table border=\"1\" class=\"dataframe\">\n",
       "  <thead>\n",
       "    <tr style=\"text-align: right;\">\n",
       "      <th></th>\n",
       "      <th>question</th>\n",
       "      <th>answer</th>\n",
       "      <th>split</th>\n",
       "    </tr>\n",
       "  </thead>\n",
       "  <tbody>\n",
       "    <tr>\n",
       "      <th>0</th>\n",
       "      <td>Who is at risk for High Blood Pressure? ?</td>\n",
       "      <td>Not a Normal Part of Aging Nearly 1 in 3 Ameri...</td>\n",
       "      <td>val</td>\n",
       "    </tr>\n",
       "    <tr>\n",
       "      <th>1</th>\n",
       "      <td>What is (are) High Blood Pressure ?</td>\n",
       "      <td>Normal blood pressure for adults is defined as...</td>\n",
       "      <td>val</td>\n",
       "    </tr>\n",
       "    <tr>\n",
       "      <th>2</th>\n",
       "      <td>What is (are) High Blood Pressure ?</td>\n",
       "      <td>Abnormal blood pressure is higher than 120/80 ...</td>\n",
       "      <td>val</td>\n",
       "    </tr>\n",
       "    <tr>\n",
       "      <th>3</th>\n",
       "      <td>What is (are) High Blood Pressure ?</td>\n",
       "      <td>Older adults should limit their sodium (salt) ...</td>\n",
       "      <td>val</td>\n",
       "    </tr>\n",
       "    <tr>\n",
       "      <th>4</th>\n",
       "      <td>What causes Urinary Tract Infections ?</td>\n",
       "      <td>Most urinary tract infections, or UTIs, are ca...</td>\n",
       "      <td>val</td>\n",
       "    </tr>\n",
       "    <tr>\n",
       "      <th>...</th>\n",
       "      <td>...</td>\n",
       "      <td>...</td>\n",
       "      <td>...</td>\n",
       "    </tr>\n",
       "    <tr>\n",
       "      <th>1656</th>\n",
       "      <td>What causes Mntriers Disease ?</td>\n",
       "      <td>Scientists are unsure about what causes Mntrie...</td>\n",
       "      <td>val</td>\n",
       "    </tr>\n",
       "    <tr>\n",
       "      <th>1657</th>\n",
       "      <td>What are the symptoms of Mntriers Disease ?</td>\n",
       "      <td>The most common symptom of Mntriers disease is...</td>\n",
       "      <td>val</td>\n",
       "    </tr>\n",
       "    <tr>\n",
       "      <th>1658</th>\n",
       "      <td>What are the symptoms of Microscopic Colitis: ...</td>\n",
       "      <td>The most common symptom of microscopic colitis...</td>\n",
       "      <td>val</td>\n",
       "    </tr>\n",
       "    <tr>\n",
       "      <th>1659</th>\n",
       "      <td>How to prevent Microscopic Colitis: Collagenou...</td>\n",
       "      <td>Researchers do not know how to prevent microsc...</td>\n",
       "      <td>val</td>\n",
       "    </tr>\n",
       "    <tr>\n",
       "      <th>1660</th>\n",
       "      <td>How to prevent Cyclic Vomiting Syndrome ?</td>\n",
       "      <td>A person should stay away from known triggers,...</td>\n",
       "      <td>val</td>\n",
       "    </tr>\n",
       "  </tbody>\n",
       "</table>\n",
       "<p>1661 rows × 3 columns</p>\n",
       "</div>"
      ],
      "text/plain": [
       "                                               question  \\\n",
       "0             Who is at risk for High Blood Pressure? ?   \n",
       "1                   What is (are) High Blood Pressure ?   \n",
       "2                   What is (are) High Blood Pressure ?   \n",
       "3                   What is (are) High Blood Pressure ?   \n",
       "4                What causes Urinary Tract Infections ?   \n",
       "...                                                 ...   \n",
       "1656                     What causes Mntriers Disease ?   \n",
       "1657        What are the symptoms of Mntriers Disease ?   \n",
       "1658  What are the symptoms of Microscopic Colitis: ...   \n",
       "1659  How to prevent Microscopic Colitis: Collagenou...   \n",
       "1660          How to prevent Cyclic Vomiting Syndrome ?   \n",
       "\n",
       "                                                 answer split  \n",
       "0     Not a Normal Part of Aging Nearly 1 in 3 Ameri...   val  \n",
       "1     Normal blood pressure for adults is defined as...   val  \n",
       "2     Abnormal blood pressure is higher than 120/80 ...   val  \n",
       "3     Older adults should limit their sodium (salt) ...   val  \n",
       "4     Most urinary tract infections, or UTIs, are ca...   val  \n",
       "...                                                 ...   ...  \n",
       "1656  Scientists are unsure about what causes Mntrie...   val  \n",
       "1657  The most common symptom of Mntriers disease is...   val  \n",
       "1658  The most common symptom of microscopic colitis...   val  \n",
       "1659  Researchers do not know how to prevent microsc...   val  \n",
       "1660  A person should stay away from known triggers,...   val  \n",
       "\n",
       "[1661 rows x 3 columns]"
      ]
     },
     "execution_count": 8,
     "metadata": {},
     "output_type": "execute_result"
    }
   ],
   "source": [
    "df_val = df[df.split == \"val\"].reset_index(drop=True)\n",
    "df_val"
   ]
  },
  {
   "cell_type": "code",
   "execution_count": 9,
   "id": "c36f091c-e41e-4a36-9343-fe116e981a7e",
   "metadata": {},
   "outputs": [
    {
     "data": {
      "text/html": [
       "<div>\n",
       "<style scoped>\n",
       "    .dataframe tbody tr th:only-of-type {\n",
       "        vertical-align: middle;\n",
       "    }\n",
       "\n",
       "    .dataframe tbody tr th {\n",
       "        vertical-align: top;\n",
       "    }\n",
       "\n",
       "    .dataframe thead th {\n",
       "        text-align: right;\n",
       "    }\n",
       "</style>\n",
       "<table border=\"1\" class=\"dataframe\">\n",
       "  <thead>\n",
       "    <tr style=\"text-align: right;\">\n",
       "      <th></th>\n",
       "      <th>question</th>\n",
       "      <th>answer</th>\n",
       "    </tr>\n",
       "  </thead>\n",
       "  <tbody>\n",
       "    <tr>\n",
       "      <th>0</th>\n",
       "      <td>Do you have information about Acupuncture</td>\n",
       "      <td>[Summary : Acupuncture has been practiced in C...</td>\n",
       "    </tr>\n",
       "    <tr>\n",
       "      <th>1</th>\n",
       "      <td>Do you have information about Advance Directives</td>\n",
       "      <td>[Summary : What kind of medical care would you...</td>\n",
       "    </tr>\n",
       "    <tr>\n",
       "      <th>2</th>\n",
       "      <td>Do you have information about Breast Reconstru...</td>\n",
       "      <td>[Summary : If you need a mastectomy, you have ...</td>\n",
       "    </tr>\n",
       "    <tr>\n",
       "      <th>3</th>\n",
       "      <td>Do you have information about Breastfeeding</td>\n",
       "      <td>[Summary : Breastfeeding offers many benefits ...</td>\n",
       "    </tr>\n",
       "    <tr>\n",
       "      <th>4</th>\n",
       "      <td>Do you have information about Cancer Chemotherapy</td>\n",
       "      <td>[Summary : Normally, your cells grow and die i...</td>\n",
       "    </tr>\n",
       "    <tr>\n",
       "      <th>...</th>\n",
       "      <td>...</td>\n",
       "      <td>...</td>\n",
       "    </tr>\n",
       "    <tr>\n",
       "      <th>1629</th>\n",
       "      <td>what research (or clinical trials) is being do...</td>\n",
       "      <td>[The NINDS supports and conducts a wide range ...</td>\n",
       "    </tr>\n",
       "    <tr>\n",
       "      <th>1630</th>\n",
       "      <td>what research (or clinical trials) is being do...</td>\n",
       "      <td>[The National Institute of Neurological Disord...</td>\n",
       "    </tr>\n",
       "    <tr>\n",
       "      <th>1631</th>\n",
       "      <td>what research (or clinical trials) is being do...</td>\n",
       "      <td>[The National Institute of Neurological Disord...</td>\n",
       "    </tr>\n",
       "    <tr>\n",
       "      <th>1632</th>\n",
       "      <td>what research (or clinical trials) is being do...</td>\n",
       "      <td>[New types of treatment are being tested in cl...</td>\n",
       "    </tr>\n",
       "    <tr>\n",
       "      <th>1633</th>\n",
       "      <td>what research is being done for Tuberculosis (...</td>\n",
       "      <td>[TB Epidemiologic Studies Consortium\\n  \\n The...</td>\n",
       "    </tr>\n",
       "  </tbody>\n",
       "</table>\n",
       "<p>1634 rows × 2 columns</p>\n",
       "</div>"
      ],
      "text/plain": [
       "                                               question  \\\n",
       "0             Do you have information about Acupuncture   \n",
       "1      Do you have information about Advance Directives   \n",
       "2     Do you have information about Breast Reconstru...   \n",
       "3           Do you have information about Breastfeeding   \n",
       "4     Do you have information about Cancer Chemotherapy   \n",
       "...                                                 ...   \n",
       "1629  what research (or clinical trials) is being do...   \n",
       "1630  what research (or clinical trials) is being do...   \n",
       "1631  what research (or clinical trials) is being do...   \n",
       "1632  what research (or clinical trials) is being do...   \n",
       "1633  what research is being done for Tuberculosis (...   \n",
       "\n",
       "                                                 answer  \n",
       "0     [Summary : Acupuncture has been practiced in C...  \n",
       "1     [Summary : What kind of medical care would you...  \n",
       "2     [Summary : If you need a mastectomy, you have ...  \n",
       "3     [Summary : Breastfeeding offers many benefits ...  \n",
       "4     [Summary : Normally, your cells grow and die i...  \n",
       "...                                                 ...  \n",
       "1629  [The NINDS supports and conducts a wide range ...  \n",
       "1630  [The National Institute of Neurological Disord...  \n",
       "1631  [The National Institute of Neurological Disord...  \n",
       "1632  [New types of treatment are being tested in cl...  \n",
       "1633  [TB Epidemiologic Studies Consortium\\n  \\n The...  \n",
       "\n",
       "[1634 rows x 2 columns]"
      ]
     },
     "execution_count": 9,
     "metadata": {},
     "output_type": "execute_result"
    }
   ],
   "source": [
    "df_val_agg = df_val.groupby('question')['answer'].apply(list).reset_index()\n",
    "df_val_agg"
   ]
  },
  {
   "cell_type": "code",
   "execution_count": 10,
   "id": "ca321802-b299-4df0-98fb-410f5b11f53c",
   "metadata": {},
   "outputs": [
    {
     "data": {
      "text/plain": [
       "[\"Summary : In coronary artery disease (CAD), the arteries that supply blood and oxygen to your heart muscle grow hardened and narrowed. You may try treatments such as lifestyle changes, medicines, and angioplasty, a procedure to open the arteries. If these treatments don't help, you may need coronary artery bypass surgery.    The surgery creates a new path for blood to flow to the heart. The surgeon takes a healthy piece of vein from the leg or artery from the chest or wrist. Then the surgeon attaches it to the coronary artery, just above and below the narrowed area or blockage. This allows blood to bypass (get around) the blockage. Sometimes people need more than one bypass.    The results of the surgery usually are excellent. Many people remain symptom-free for many years. You may need surgery again if blockages form in the grafted arteries or veins or in arteries that weren't blocked before. Lifestyle changes and medicines may help prevent arteries from becoming clogged again.    NIH: National Heart, Lung, and Blood Institute\"]"
      ]
     },
     "execution_count": 10,
     "metadata": {},
     "output_type": "execute_result"
    }
   ],
   "source": [
    "df_val_agg.iloc[10].answer"
   ]
  },
  {
   "cell_type": "code",
   "execution_count": null,
   "id": "90efaea1-7bd7-4efc-9c8e-e6ebaeaf82f4",
   "metadata": {},
   "outputs": [],
   "source": []
  },
  {
   "cell_type": "markdown",
   "id": "0d063754-9859-49e6-8096-e45640c56ad7",
   "metadata": {},
   "source": [
    "## Assign scores"
   ]
  },
  {
   "cell_type": "code",
   "execution_count": 11,
   "id": "b4f39104-c035-4d7a-b853-7386c67c99d0",
   "metadata": {},
   "outputs": [],
   "source": [
    "# df_val_agg = df_val_agg[0:5].copy()"
   ]
  },
  {
   "cell_type": "code",
   "execution_count": 12,
   "id": "638d7249-5c7b-4d2b-8ef4-48b2433538c2",
   "metadata": {},
   "outputs": [
    {
     "data": {
      "text/plain": [
       "'\\nall_metrics = []\\nall_reasoning = []\\nall_ans = []\\nfor idx, row in tqdm(df_val_agg.iterrows(), total=len(df_val_agg)):\\n    ans = llm(\\n        row[\"question\"],\\n        chat_history=[],\\n        system_prompt=medqa_prompt,\\n    )\\n    for x in ans:\\n        pass\\n    candidate_ans = x\\n    if \"</think>\" in candidate_ans:\\n        candidate_ans = candidate_ans.split(\"</think>\")[-1]\\n    reasoning, metrics = judge_llm.judge_answer(row[\"question\"], row[\"answer\"], candidate_ans)\\n    all_ans.append(candidate_ans)\\n    all_metrics.append(metrics)\\n    all_reasoning.append(reasoning)\\n\\ndf_val_agg[\"candidate_ans\"] = all_ans\\ndf_val_agg[\"metrics\"] = all_metrics\\ndf_val_agg[\"reasoning\"] = all_reasoning\\n\\ndf_val_agg.to_csv(\"zero_shot_metrics.csv\", index=False)\\n'"
      ]
     },
     "execution_count": 12,
     "metadata": {},
     "output_type": "execute_result"
    }
   ],
   "source": [
    "\"\"\"\n",
    "all_metrics = []\n",
    "all_reasoning = []\n",
    "all_ans = []\n",
    "for idx, row in tqdm(df_val_agg.iterrows(), total=len(df_val_agg)):\n",
    "    ans = llm(\n",
    "        row[\"question\"],\n",
    "        chat_history=[],\n",
    "        system_prompt=medqa_prompt,\n",
    "    )\n",
    "    for x in ans:\n",
    "        pass\n",
    "    candidate_ans = x\n",
    "    if \"</think>\" in candidate_ans:\n",
    "        candidate_ans = candidate_ans.split(\"</think>\")[-1]\n",
    "    reasoning, metrics = judge_llm.judge_answer(row[\"question\"], row[\"answer\"], candidate_ans)\n",
    "    all_ans.append(candidate_ans)\n",
    "    all_metrics.append(metrics)\n",
    "    all_reasoning.append(reasoning)\n",
    "\n",
    "df_val_agg[\"candidate_ans\"] = all_ans\n",
    "df_val_agg[\"metrics\"] = all_metrics\n",
    "df_val_agg[\"reasoning\"] = all_reasoning\n",
    "\n",
    "df_val_agg.to_csv(\"zero_shot_metrics.csv\", index=False)\n",
    "\"\"\""
   ]
  },
  {
   "cell_type": "code",
   "execution_count": null,
   "id": "d1f6077c-1bef-493a-89ed-a17ed96144ab",
   "metadata": {},
   "outputs": [],
   "source": []
  },
  {
   "cell_type": "code",
   "execution_count": 13,
   "id": "53a726f0-abd5-45b0-8093-68d2db857b8b",
   "metadata": {},
   "outputs": [
    {
     "data": {
      "text/plain": [
       "'Do you have information about Coronary Artery Bypass Surgery'"
      ]
     },
     "execution_count": 13,
     "metadata": {},
     "output_type": "execute_result"
    }
   ],
   "source": [
    "row = df_val_agg.iloc[10]\n",
    "row[\"question\"]"
   ]
  },
  {
   "cell_type": "code",
   "execution_count": null,
   "id": "a0046325-2abc-4ec4-9869-1400679c9299",
   "metadata": {},
   "outputs": [],
   "source": []
  },
  {
   "cell_type": "code",
   "execution_count": null,
   "id": "d5376d5b-cb22-4dee-92b5-620a6b7753e2",
   "metadata": {},
   "outputs": [],
   "source": []
  },
  {
   "cell_type": "code",
   "execution_count": 14,
   "id": "12c21236-f001-444f-a1da-4656c48fba9e",
   "metadata": {},
   "outputs": [],
   "source": [
    "# df_val_agg.to_csv(\"zero_shot_metrics.csv\", index=False)"
   ]
  },
  {
   "cell_type": "code",
   "execution_count": 15,
   "id": "ac631e03-398b-49ee-98be-c990baadc902",
   "metadata": {},
   "outputs": [
    {
     "data": {
      "text/html": [
       "<div>\n",
       "<style scoped>\n",
       "    .dataframe tbody tr th:only-of-type {\n",
       "        vertical-align: middle;\n",
       "    }\n",
       "\n",
       "    .dataframe tbody tr th {\n",
       "        vertical-align: top;\n",
       "    }\n",
       "\n",
       "    .dataframe thead th {\n",
       "        text-align: right;\n",
       "    }\n",
       "</style>\n",
       "<table border=\"1\" class=\"dataframe\">\n",
       "  <thead>\n",
       "    <tr style=\"text-align: right;\">\n",
       "      <th></th>\n",
       "      <th>question</th>\n",
       "      <th>answer</th>\n",
       "      <th>candidate_ans</th>\n",
       "      <th>metrics</th>\n",
       "      <th>reasoning</th>\n",
       "    </tr>\n",
       "  </thead>\n",
       "  <tbody>\n",
       "    <tr>\n",
       "      <th>0</th>\n",
       "      <td>Do you have information about Acupuncture</td>\n",
       "      <td>[\"Summary : Acupuncture has been practiced in ...</td>\n",
       "      <td>\\n\\nAcupuncture is a traditional Chinese medic...</td>\n",
       "      <td>[2, 1, 2, 1]</td>\n",
       "      <td>&lt;think&gt;\\nOkay, let's tackle this evaluation. T...</td>\n",
       "    </tr>\n",
       "    <tr>\n",
       "      <th>1</th>\n",
       "      <td>Do you have information about Advance Directives</td>\n",
       "      <td>['Summary : What kind of medical care would yo...</td>\n",
       "      <td>\\n\\nAn **advance directive** is a legal docume...</td>\n",
       "      <td>[2, 1, 2, 1]</td>\n",
       "      <td>&lt;think&gt;\\nOkay, let's tackle this evaluation. T...</td>\n",
       "    </tr>\n",
       "    <tr>\n",
       "      <th>2</th>\n",
       "      <td>Do you have information about Breast Reconstru...</td>\n",
       "      <td>[\"Summary : If you need a mastectomy, you have...</td>\n",
       "      <td>\\n\\nBreast reconstruction is a complex and ind...</td>\n",
       "      <td>[2, 1, 1, 0]</td>\n",
       "      <td>&lt;think&gt;\\nOkay, let's tackle this evaluation. T...</td>\n",
       "    </tr>\n",
       "    <tr>\n",
       "      <th>3</th>\n",
       "      <td>Do you have information about Breastfeeding</td>\n",
       "      <td>[\"Summary : Breastfeeding offers many benefits...</td>\n",
       "      <td>\\n\\nBreastfeeding is a natural and beneficial ...</td>\n",
       "      <td>[2, 1, 2, 1]</td>\n",
       "      <td>&lt;think&gt;\\nOkay, let's tackle this evaluation. T...</td>\n",
       "    </tr>\n",
       "    <tr>\n",
       "      <th>4</th>\n",
       "      <td>Do you have information about Cancer Chemotherapy</td>\n",
       "      <td>['Summary : Normally, your cells grow and die ...</td>\n",
       "      <td>\\n\\nChemotherapy is a systemic treatment that ...</td>\n",
       "      <td>[2, 1, 2, 1]</td>\n",
       "      <td>&lt;think&gt;\\nOkay, let's tackle this evaluation. T...</td>\n",
       "    </tr>\n",
       "    <tr>\n",
       "      <th>...</th>\n",
       "      <td>...</td>\n",
       "      <td>...</td>\n",
       "      <td>...</td>\n",
       "      <td>...</td>\n",
       "      <td>...</td>\n",
       "    </tr>\n",
       "    <tr>\n",
       "      <th>1629</th>\n",
       "      <td>what research (or clinical trials) is being do...</td>\n",
       "      <td>['The NINDS supports and conducts a wide range...</td>\n",
       "      <td>\\n\\nSotos Syndrome (SS) is a rare genetic diso...</td>\n",
       "      <td>[2, 1, 2, 1]</td>\n",
       "      <td>&lt;think&gt;\\nOkay, let's tackle this evaluation. T...</td>\n",
       "    </tr>\n",
       "    <tr>\n",
       "      <th>1630</th>\n",
       "      <td>what research (or clinical trials) is being do...</td>\n",
       "      <td>[\"The National Institute of Neurological Disor...</td>\n",
       "      <td>\\n\\nResearch and clinical trials for stroke fo...</td>\n",
       "      <td>[2, 1, 2, 1]</td>\n",
       "      <td>&lt;think&gt;\\nOkay, let's tackle this evaluation. T...</td>\n",
       "    </tr>\n",
       "    <tr>\n",
       "      <th>1631</th>\n",
       "      <td>what research (or clinical trials) is being do...</td>\n",
       "      <td>['The National Institute of Neurological Disor...</td>\n",
       "      <td>\\n\\nThoracic Outlet Syndrome (TOS) is a comple...</td>\n",
       "      <td>[2, 1, 2, 1]</td>\n",
       "      <td>&lt;think&gt;\\nOkay, let's tackle this evaluation. T...</td>\n",
       "    </tr>\n",
       "    <tr>\n",
       "      <th>1632</th>\n",
       "      <td>what research (or clinical trials) is being do...</td>\n",
       "      <td>[\"New types of treatment are being tested in c...</td>\n",
       "      <td>\\n\\nResearch and clinical trials for **urethra...</td>\n",
       "      <td>[2, 1, 2, 1]</td>\n",
       "      <td>&lt;think&gt;\\nOkay, let's tackle this evaluation. T...</td>\n",
       "    </tr>\n",
       "    <tr>\n",
       "      <th>1633</th>\n",
       "      <td>what research is being done for Tuberculosis (...</td>\n",
       "      <td>['TB Epidemiologic Studies Consortium\\n  \\n Th...</td>\n",
       "      <td>\\n\\nResearch on Tuberculosis (TB) is multidisc...</td>\n",
       "      <td>[2, 1, 2, 1]</td>\n",
       "      <td>&lt;think&gt;\\nOkay, let's tackle this evaluation. T...</td>\n",
       "    </tr>\n",
       "  </tbody>\n",
       "</table>\n",
       "<p>1634 rows × 5 columns</p>\n",
       "</div>"
      ],
      "text/plain": [
       "                                               question  \\\n",
       "0             Do you have information about Acupuncture   \n",
       "1      Do you have information about Advance Directives   \n",
       "2     Do you have information about Breast Reconstru...   \n",
       "3           Do you have information about Breastfeeding   \n",
       "4     Do you have information about Cancer Chemotherapy   \n",
       "...                                                 ...   \n",
       "1629  what research (or clinical trials) is being do...   \n",
       "1630  what research (or clinical trials) is being do...   \n",
       "1631  what research (or clinical trials) is being do...   \n",
       "1632  what research (or clinical trials) is being do...   \n",
       "1633  what research is being done for Tuberculosis (...   \n",
       "\n",
       "                                                 answer  \\\n",
       "0     [\"Summary : Acupuncture has been practiced in ...   \n",
       "1     ['Summary : What kind of medical care would yo...   \n",
       "2     [\"Summary : If you need a mastectomy, you have...   \n",
       "3     [\"Summary : Breastfeeding offers many benefits...   \n",
       "4     ['Summary : Normally, your cells grow and die ...   \n",
       "...                                                 ...   \n",
       "1629  ['The NINDS supports and conducts a wide range...   \n",
       "1630  [\"The National Institute of Neurological Disor...   \n",
       "1631  ['The National Institute of Neurological Disor...   \n",
       "1632  [\"New types of treatment are being tested in c...   \n",
       "1633  ['TB Epidemiologic Studies Consortium\\n  \\n Th...   \n",
       "\n",
       "                                          candidate_ans       metrics  \\\n",
       "0     \\n\\nAcupuncture is a traditional Chinese medic...  [2, 1, 2, 1]   \n",
       "1     \\n\\nAn **advance directive** is a legal docume...  [2, 1, 2, 1]   \n",
       "2     \\n\\nBreast reconstruction is a complex and ind...  [2, 1, 1, 0]   \n",
       "3     \\n\\nBreastfeeding is a natural and beneficial ...  [2, 1, 2, 1]   \n",
       "4     \\n\\nChemotherapy is a systemic treatment that ...  [2, 1, 2, 1]   \n",
       "...                                                 ...           ...   \n",
       "1629  \\n\\nSotos Syndrome (SS) is a rare genetic diso...  [2, 1, 2, 1]   \n",
       "1630  \\n\\nResearch and clinical trials for stroke fo...  [2, 1, 2, 1]   \n",
       "1631  \\n\\nThoracic Outlet Syndrome (TOS) is a comple...  [2, 1, 2, 1]   \n",
       "1632  \\n\\nResearch and clinical trials for **urethra...  [2, 1, 2, 1]   \n",
       "1633  \\n\\nResearch on Tuberculosis (TB) is multidisc...  [2, 1, 2, 1]   \n",
       "\n",
       "                                              reasoning  \n",
       "0     <think>\\nOkay, let's tackle this evaluation. T...  \n",
       "1     <think>\\nOkay, let's tackle this evaluation. T...  \n",
       "2     <think>\\nOkay, let's tackle this evaluation. T...  \n",
       "3     <think>\\nOkay, let's tackle this evaluation. T...  \n",
       "4     <think>\\nOkay, let's tackle this evaluation. T...  \n",
       "...                                                 ...  \n",
       "1629  <think>\\nOkay, let's tackle this evaluation. T...  \n",
       "1630  <think>\\nOkay, let's tackle this evaluation. T...  \n",
       "1631  <think>\\nOkay, let's tackle this evaluation. T...  \n",
       "1632  <think>\\nOkay, let's tackle this evaluation. T...  \n",
       "1633  <think>\\nOkay, let's tackle this evaluation. T...  \n",
       "\n",
       "[1634 rows x 5 columns]"
      ]
     },
     "execution_count": 15,
     "metadata": {},
     "output_type": "execute_result"
    }
   ],
   "source": [
    "import ast\n",
    "df_val_agg = pd.read_csv(\"metrics/zero_shot_metrics.csv\")\n",
    "df_val_agg.metrics = df_val_agg.metrics.map(ast.literal_eval)\n",
    "df_val_agg"
   ]
  },
  {
   "cell_type": "code",
   "execution_count": null,
   "id": "7cc80577-c94c-4f64-a55d-6d65387f6195",
   "metadata": {},
   "outputs": [],
   "source": []
  },
  {
   "cell_type": "code",
   "execution_count": null,
   "id": "062d3de2-e1c3-49ce-bb18-0ca1824ac3f9",
   "metadata": {},
   "outputs": [],
   "source": []
  },
  {
   "cell_type": "code",
   "execution_count": null,
   "id": "02686fc9-aa34-45ef-82ed-e2fdefd45a24",
   "metadata": {},
   "outputs": [],
   "source": []
  },
  {
   "cell_type": "code",
   "execution_count": null,
   "id": "1f602579-df0a-489a-8925-7db3a94080b2",
   "metadata": {},
   "outputs": [],
   "source": []
  },
  {
   "cell_type": "markdown",
   "id": "67e04a16-321b-496c-8529-3f2b3f0a83f9",
   "metadata": {},
   "source": [
    "### Debug"
   ]
  },
  {
   "cell_type": "code",
   "execution_count": 17,
   "id": "7f7880d1-d025-4b92-a912-0d250f69933e",
   "metadata": {},
   "outputs": [
    {
     "name": "stdout",
     "output_type": "stream",
     "text": [
      "Invoking Qwen 3 1.7b (Tiny-size LLM) - locally from Ollama. Word count: 50\n",
      ".............................................................................................................................................................................................................................................................................................................................................................................................................................................................................................................................................................................................................................................................................................................................................................................................................................................................................................................................................................................\n",
      "\n",
      "<think>\n",
      "Okay, the user is asking about Coronary Artery Bypass Surgery. Let me start by recalling what I know. This surgery is used to treat coronary artery disease, right? The main idea is to bypass blocked arteries so blood can still reach the heart muscle.\n",
      "\n",
      "First, I should explain what the surgery involves. Maybe mention the use of a healthy blood vessel from another part of the body, like the leg or chest. Then, the steps involved in the procedure—making incisions, using a pump or a graft, and closing the incisions.\n",
      "\n",
      "I should also cover the reasons why someone might need this surgery. Common reasons include narrowed or blocked arteries, symptoms like chest pain, and the risk of heart attack. It's usually recommended when other treatments aren't enough.\n",
      "\n",
      "Next, the risks and complications. Things like infection, bleeding, blood clots, and even heart attack during the surgery. Also, the possibility of the bypass not working properly.\n",
      "\n",
      "Then, the recovery process. How long it takes to recover, what to expect in the days and weeks after surgery, and when they can return to normal activities. Maybe mention the importance of follow-up care and lifestyle changes.\n",
      "\n",
      "I should also mention the different types of bypass surgeries, like off-pump and on-pump, and the role of angiography in planning the procedure. Oh, and the importance of consulting a cardiologist or surgeon for personalized advice.\n",
      "\n",
      "Wait, the user might be looking for more details or specific information. I should make sure to cover the key points without overwhelming them. Also, check if there's any recent advancements in the procedure, but I think the basics are covered. Let me structure this in a clear, conversational way without using markdown.\n",
      "</think>\n",
      "\n",
      "**Coronary Artery Bypass Surgery (CABG)** is a procedure used to treat coronary artery disease (CAD), where arteries supplying blood to the heart become narrowed or blocked. Here’s a concise overview:\n",
      "\n",
      "### **What Is CABG?**  \n",
      "- **Purpose**: To restore blood flow to the heart muscle by creating a new pathway (bypass) around blocked or narrowed arteries.  \n",
      "- **Method**: A healthy blood vessel (graft) is used to bypass the blocked section, allowing blood to flow around the blockage.  \n",
      "\n",
      "### **Types of Grafts**  \n",
      "- **Peripheral Artery Graft (PAG)**: From the leg (e.g., saphenous vein).  \n",
      "- **Internal Thoracic Artery (ITA)**: From the chest.  \n",
      "- **Great Saphenous Vein (GSV)**: A common PAG.  \n",
      "\n",
      "### **Procedure Steps**  \n",
      "1. **Incisions**: Small incisions are made in the chest (sternal) and arm (for the graft).  \n",
      "2. **Graft Placement**: The graft is connected to the artery and the heart.  \n",
      "3. **Bypass Creation**: The graft is used to reroute blood flow around the blockage.  \n",
      "4. **Closure**: Incisions are closed, and the patient is monitored for recovery.  \n",
      "\n",
      "### **When Is It Needed?**  \n",
      "- **Indications**: Severe CAD, angina, or a heart attack.  \n",
      "- **When to Consider**: When medications are ineffective, or when there’s a high risk of heart attack.  \n",
      "\n",
      "### **Risks and Complications**  \n",
      "- **Infection** (e.g., endocarditis).  \n",
      "- **Bleeding** or blood clots.  \n",
      "- **Heart attack** during surgery.  \n",
      "- **Graft failure** (e.g., the bypass doesn’t work properly).  \n",
      "\n",
      "### **Recovery**  \n",
      "- **Hospital Stay**: Typically 3–7 days.  \n",
      "- **Recovery Time**: 2–6 weeks for most patients.  \n",
      "- **Activity**: Gradual return to normal activities, avoiding heavy lifting or strenuous exercise.  \n",
      "- **Follow-Up**: Regular check-ups with a cardiologist to monitor heart health and graft function.  \n",
      "\n",
      "### **Lifestyle Changes**  \n",
      "- **Smoking cessation**.  \n",
      "- **Diet and exercise** to prevent future heart attacks.  \n",
      "- **Medication management** (e.g., statins, beta-blockers).  \n",
      "\n",
      "### **Alternatives**  \n",
      "- **Stenting** (small metal tube placed in the artery to keep it open).  \n",
      "- **Catheterization** (minimally invasive procedures).  \n",
      "\n",
      "**Important Note**: CABG is a major procedure with potential risks, so it’s usually recommended after evaluating the patient’s overall health and disease severity. Always consult a cardiologist or surgeon for personalized advice.\n"
     ]
    }
   ],
   "source": [
    "ans = llm(\n",
    "    row[\"question\"],\n",
    "    chat_history=[],\n",
    "    system_prompt=medqa_prompt,\n",
    ")\n",
    "prev = \"\"\n",
    "for x in ans:\n",
    "    cur_ans = x\n",
    "    # print(cur_ans.replace(prev, ''))\n",
    "    # prev = cur_ans\n",
    "    print('.', end='')\n",
    "print('\\n')\n",
    "print(x)\n",
    "candidate_ans = x"
   ]
  },
  {
   "cell_type": "code",
   "execution_count": 18,
   "id": "d892acaf-64de-4c02-b897-8e225dfcd2e6",
   "metadata": {},
   "outputs": [
    {
     "name": "stdout",
     "output_type": "stream",
     "text": [
      "Invoking Qwen 3 1.7b (Tiny-size LLM) - locally from Ollama. Word count: 732\n"
     ]
    }
   ],
   "source": [
    "if \"</think>\" in candidate_ans:\n",
    "    candidate_ans = candidate_ans.split(\"</think>\")[-1]\n",
    "reasoning, metrics = judge_llm.judge_answer(row[\"question\"], row[\"answer\"], candidate_ans)"
   ]
  },
  {
   "cell_type": "code",
   "execution_count": 19,
   "id": "660562bc-0bda-4c68-ae79-def49c499cf9",
   "metadata": {},
   "outputs": [
    {
     "data": {
      "text/plain": [
       "('Do you have information about Coronary Artery Bypass Surgery',\n",
       " [\"Summary : In coronary artery disease (CAD), the arteries that supply blood and oxygen to your heart muscle grow hardened and narrowed. You may try treatments such as lifestyle changes, medicines, and angioplasty, a procedure to open the arteries. If these treatments don't help, you may need coronary artery bypass surgery.    The surgery creates a new path for blood to flow to the heart. The surgeon takes a healthy piece of vein from the leg or artery from the chest or wrist. Then the surgeon attaches it to the coronary artery, just above and below the narrowed area or blockage. This allows blood to bypass (get around) the blockage. Sometimes people need more than one bypass.    The results of the surgery usually are excellent. Many people remain symptom-free for many years. You may need surgery again if blockages form in the grafted arteries or veins or in arteries that weren't blocked before. Lifestyle changes and medicines may help prevent arteries from becoming clogged again.    NIH: National Heart, Lung, and Blood Institute\"])"
      ]
     },
     "execution_count": 19,
     "metadata": {},
     "output_type": "execute_result"
    }
   ],
   "source": [
    "row[\"question\"], row[\"answer\"]"
   ]
  },
  {
   "cell_type": "code",
   "execution_count": 20,
   "id": "9a5f655f-919e-4851-a2c7-ca19d836fedb",
   "metadata": {},
   "outputs": [
    {
     "name": "stdout",
     "output_type": "stream",
     "text": [
      "<think>\n",
      "Okay, let's tackle this evaluation. The user provided an answer about Coronary Artery Bypass Surgery (CABG) and wants me to judge it based on the given criteria.\n",
      "\n",
      "First, I need to check the correctness. The reference answer mentions that CABG is used for CAD when other treatments fail. The evaluation answer starts by stating that CABG is for CAD, which matches. It also explains the purpose, method, types of grafts, procedure steps, when it's needed, risks, recovery, lifestyle changes, and alternatives. The reference answer mentions the NIH and that the results are usually excellent, but the evaluation answer doesn't mention that. However, the evaluation answer is comprehensive in covering all the main points.\n",
      "\n",
      "Next, was the data consistent? The evaluation answer uses data from the reference answer. For example, it mentions the types of grafts (PAG, ITA, GSV), which are part of the reference. The reference also talks about risks like infection, bleeding, heart attack, and graft failure. The evaluation answer includes these points. So data consistency is likely 1 (yes).\n",
      "\n",
      "Completeness: The evaluation answer covers all the key aspects: purpose, types of grafts, procedure steps, when it's needed, risks, recovery, lifestyle changes, alternatives. The reference answer also mentions the NIH and that results are excellent. The evaluation answer includes all these points without missing anything. So completeness is 2 (complete as expected).\n",
      "\n",
      "Length: The reference answer is a summary, and the evaluation answer is more detailed. The evaluation answer has more sections and details, but the structure is similar. The reference answer is shorter, but the evaluation answer is longer. The user's criteria says to judge based on length, but the evaluation answer is adequate in length. So length is 1 (adequate length).\n",
      "\n",
      "Putting it all together, the answer is correct, data consistent, complete, and length is adequate. So the metrics would be 1, 1, 2, 1.\n",
      "</think>\n",
      "\n",
      "<metrics>1,1,2,1</metrics>\n"
     ]
    }
   ],
   "source": [
    "print(reasoning)"
   ]
  },
  {
   "cell_type": "code",
   "execution_count": 21,
   "id": "26667c68-80d8-458c-855d-b29539c3f666",
   "metadata": {},
   "outputs": [
    {
     "data": {
      "text/plain": [
       "[2, 2, 2, 2]"
      ]
     },
     "execution_count": 21,
     "metadata": {},
     "output_type": "execute_result"
    }
   ],
   "source": [
    "metrics"
   ]
  },
  {
   "cell_type": "code",
   "execution_count": 22,
   "id": "f1c70319-bd62-4e72-80f7-9766265ddc82",
   "metadata": {},
   "outputs": [
    {
     "data": {
      "application/vnd.jupyter.widget-view+json": {
       "model_id": "163ddb7c86da44d69f026de5c753e407",
       "version_major": 2,
       "version_minor": 0
      },
      "text/plain": [
       "Reading GloVe:   0%|          | 0/400000 [00:00<?, ?it/s]"
      ]
     },
     "metadata": {},
     "output_type": "display_data"
    },
    {
     "data": {
      "application/vnd.jupyter.widget-view+json": {
       "model_id": "ecb602ef8e384062829fdba3cef8845d",
       "version_major": 2,
       "version_minor": 0
      },
      "text/plain": [
       "Precomputing QA embeddings:   0%|          | 0/13042 [00:00<?, ?it/s]"
      ]
     },
     "metadata": {},
     "output_type": "display_data"
    }
   ],
   "source": [
    "qara = QARetrievalAgent(df[df.split == \"train\"])"
   ]
  },
  {
   "cell_type": "code",
   "execution_count": 23,
   "id": "f5a8d2e3-ce9a-43b3-8daa-17568afb158d",
   "metadata": {},
   "outputs": [
    {
     "name": "stdout",
     "output_type": "stream",
     "text": [
      "Invoking Qwen 3 1.7b (Tiny-size LLM) - locally from Ollama. Word count: 1992\n",
      "<think>\n",
      "Okay, the user is asking about diabetes. Let me check the QA pairs to see what information is available.\n",
      "\n",
      "Looking at the first QA pair, it explains that diabetes is a complex group of diseases with various causes. It mentions type 1, type 2, and gestational diabetes. The answer covers how diabetes affects the body, the role of insulin, and the complications. \n",
      "\n",
      "The second QA pair is similar, providing more details on the types of diabetes, the pancreas's role, and the factors that contribute to diabetes. It also mentions the interaction between genetic and environmental factors.\n",
      "\n",
      "The other QA pairs are duplicates of the first two, so I can ignore them. The key points are the different types of diabetes, how insulin works, the causes (genetic and environmental factors), and the complications.\n",
      "\n",
      "The user might want a general overview of diabetes, its types, causes, and effects. I should structure the answer to include all these aspects, ensuring clarity and accuracy based on the provided information. Also, mention that while the exact causes aren't fully understood, genes and environment play a role. Highlight the main types and their differences.\n",
      "</think>\n",
      "\n",
      "Diabetes is a complex group of metabolic disorders characterized by elevated blood glucose levels (hyperglycemia). It occurs when the body cannot properly regulate blood sugar, often due to insufficient insulin production (type 1 or type 2 diabetes) or impaired insulin function (type 2 diabetes). The pancreas, an organ behind the stomach, produces insulin, which helps cells absorb glucose for energy. \n",
      "\n",
      "**Main Types of Diabetes**:\n",
      "1. **Type 1 Diabetes**: \n",
      "   - Autoimmune condition where the body destroys insulin-producing beta cells in the pancreas.\n",
      "   - Usually diagnosed in children or young adults.\n",
      "   - Requires lifelong insulin therapy.\n",
      "\n",
      "2. **Type 2 Diabetes**: \n",
      "   - Most common form, often linked to obesity, physical inactivity, family history, and ethnicity.\n",
      "   - Characterized by insulin resistance and reduced insulin production.\n",
      "   - Managed with lifestyle changes, medications (e.g., metformin), or insulin therapy.\n",
      "\n",
      "3. **Gestational Diabetes**: \n",
      "   - Develops during pregnancy, often resolving post-partum.\n",
      "   - Increases risk of type 2 diabetes in the mother and child.\n",
      "\n",
      "**Causes**:\n",
      "- **Genetic Factors**: Inherited predispositions.\n",
      "- **Environmental Factors**: Diet, physical inactivity, obesity, and exposure to certain toxins.\n",
      "- **Combination of Genes and Environment**: Most cases involve a complex interplay of genetic and lifestyle factors.\n",
      "\n",
      "**Complications**:\n",
      "- **Long-term risks**: Heart disease, stroke, kidney failure, blindness, nerve damage, and poor wound healing.\n",
      "- **Other issues**: Increased susceptibility to infections, depression, and pregnancy complications.\n",
      "\n",
      "**Key Takeaway**: While the exact causes of diabetes are not fully understood, genetic and environmental factors interact to increase risk. Management involves lifestyle changes, medication, or insulin therapy, depending on the type and severity.\n"
     ]
    }
   ],
   "source": [
    "sel_q = qara(\"What is (are) diabetes\")\n",
    "print(sel_q)"
   ]
  },
  {
   "cell_type": "markdown",
   "id": "a27710ca-3f6f-4df8-a6ed-b40688b7dfed",
   "metadata": {},
   "source": [
    "### Glove"
   ]
  },
  {
   "cell_type": "code",
   "execution_count": 24,
   "id": "353976ed-e7ef-4b7f-b0fe-06b954afeb8c",
   "metadata": {},
   "outputs": [
    {
     "data": {
      "application/vnd.jupyter.widget-view+json": {
       "model_id": "b2f06603123c487c8bb0c84b6bce2d84",
       "version_major": 2,
       "version_minor": 0
      },
      "text/plain": [
       "Reading GloVe:   0%|          | 0/400000 [00:00<?, ?it/s]"
      ]
     },
     "metadata": {},
     "output_type": "display_data"
    },
    {
     "data": {
      "application/vnd.jupyter.widget-view+json": {
       "model_id": "23271815968545c18918b57ffd44b5f5",
       "version_major": 2,
       "version_minor": 0
      },
      "text/plain": [
       "Precomputing QA embeddings:   0%|          | 0/13042 [00:00<?, ?it/s]"
      ]
     },
     "metadata": {},
     "output_type": "display_data"
    }
   ],
   "source": [
    "gs = GloVeSimilarity(df[df.split == \"train\"])"
   ]
  },
  {
   "cell_type": "code",
   "execution_count": 25,
   "id": "70c3f6db-dc89-4f4a-a9ef-db42e30ba820",
   "metadata": {},
   "outputs": [
    {
     "data": {
      "text/html": [
       "<div>\n",
       "<style scoped>\n",
       "    .dataframe tbody tr th:only-of-type {\n",
       "        vertical-align: middle;\n",
       "    }\n",
       "\n",
       "    .dataframe tbody tr th {\n",
       "        vertical-align: top;\n",
       "    }\n",
       "\n",
       "    .dataframe thead th {\n",
       "        text-align: right;\n",
       "    }\n",
       "</style>\n",
       "<table border=\"1\" class=\"dataframe\">\n",
       "  <thead>\n",
       "    <tr style=\"text-align: right;\">\n",
       "      <th></th>\n",
       "      <th>question</th>\n",
       "      <th>answer</th>\n",
       "      <th>split</th>\n",
       "    </tr>\n",
       "  </thead>\n",
       "  <tbody>\n",
       "    <tr>\n",
       "      <th>7333</th>\n",
       "      <td>What is (are) Weaver syndrome ?</td>\n",
       "      <td>Weaver syndrome is a rare condition that is ch...</td>\n",
       "      <td>train</td>\n",
       "    </tr>\n",
       "    <tr>\n",
       "      <th>10151</th>\n",
       "      <td>What is (are) Weaver syndrome ?</td>\n",
       "      <td>Weaver syndrome is a condition that involves t...</td>\n",
       "      <td>train</td>\n",
       "    </tr>\n",
       "    <tr>\n",
       "      <th>3805</th>\n",
       "      <td>What is (are) Barber Say syndrome ?</td>\n",
       "      <td>Barber Say syndrome is a very rare condition c...</td>\n",
       "      <td>train</td>\n",
       "    </tr>\n",
       "    <tr>\n",
       "      <th>3132</th>\n",
       "      <td>What is (are) Williams syndrome ?</td>\n",
       "      <td>Williams syndrome is a developmental disorder ...</td>\n",
       "      <td>train</td>\n",
       "    </tr>\n",
       "    <tr>\n",
       "      <th>12186</th>\n",
       "      <td>What is (are) Williams syndrome ?</td>\n",
       "      <td>Williams syndrome is a developmental disorder ...</td>\n",
       "      <td>train</td>\n",
       "    </tr>\n",
       "  </tbody>\n",
       "</table>\n",
       "</div>"
      ],
      "text/plain": [
       "                                  question  \\\n",
       "7333       What is (are) Weaver syndrome ?   \n",
       "10151      What is (are) Weaver syndrome ?   \n",
       "3805   What is (are) Barber Say syndrome ?   \n",
       "3132     What is (are) Williams syndrome ?   \n",
       "12186    What is (are) Williams syndrome ?   \n",
       "\n",
       "                                                  answer  split  \n",
       "7333   Weaver syndrome is a rare condition that is ch...  train  \n",
       "10151  Weaver syndrome is a condition that involves t...  train  \n",
       "3805   Barber Say syndrome is a very rare condition c...  train  \n",
       "3132   Williams syndrome is a developmental disorder ...  train  \n",
       "12186  Williams syndrome is a developmental disorder ...  train  "
      ]
     },
     "execution_count": 25,
     "metadata": {},
     "output_type": "execute_result"
    }
   ],
   "source": [
    "ans = gs.find_documents(\"Tell me about weaver syndrome\")\n",
    "ans"
   ]
  },
  {
   "cell_type": "code",
   "execution_count": 26,
   "id": "16ddd96f-a3bf-4f0d-aba3-62c17bf8b56f",
   "metadata": {},
   "outputs": [
    {
     "data": {
      "text/plain": [
       "{'question': 'What is (are) Williams syndrome ?',\n",
       " 'answer': \"Williams syndrome is a developmental disorder that affects many parts of the body. This condition is characterized by mild to moderate intellectual disability or learning problems, unique personality characteristics, distinctive facial features, and heart and blood vessel (cardiovascular) problems.  People with Williams syndrome typically have difficulty with visual-spatial tasks such as drawing and assembling puzzles, but they tend to do well on tasks that involve spoken language, music, and learning by repetition (rote memorization). Affected individuals have outgoing, engaging personalities and tend to take an extreme interest in other people. Attention deficit disorder (ADD), problems with anxiety, and phobias are common among people with this disorder.  Young children with Williams syndrome have distinctive facial features including a broad forehead, a short nose with a broad tip, full cheeks, and a wide mouth with full lips. Many affected people have dental problems such as teeth that are small, widely spaced, crooked, or missing. In older children and adults, the face appears longer and more gaunt.  A form of cardiovascular disease called supravalvular aortic stenosis (SVAS) occurs frequently in people with Williams syndrome. Supravalvular aortic stenosis is a narrowing of the large blood vessel that carries blood from the heart to the rest of the body (the aorta). If this condition is not treated, the aortic narrowing can lead to shortness of breath, chest pain, and heart failure. Other problems with the heart and blood vessels, including high blood pressure (hypertension), have also been reported in people with Williams syndrome.  Additional signs and symptoms of Williams syndrome include abnormalities of connective tissue (tissue that supports the body's joints and organs) such as joint problems and soft, loose skin. Affected people may also have increased calcium levels in the blood (hypercalcemia) in infancy, developmental delays, problems with coordination, and short stature. Medical problems involving the eyes and vision, the digestive tract, and the urinary system are also possible.\",\n",
       " 'split': 'train'}"
      ]
     },
     "execution_count": 26,
     "metadata": {},
     "output_type": "execute_result"
    }
   ],
   "source": [
    "ans.iloc[4].to_dict()"
   ]
  },
  {
   "cell_type": "code",
   "execution_count": 27,
   "id": "404ab448-182f-4831-ae6d-a4bc69903cfa",
   "metadata": {},
   "outputs": [
    {
     "data": {
      "text/plain": [
       "array([ 0.31366   ,  0.3148742 , -0.042571  , -0.13993   , -0.035968  ,\n",
       "        0.32456   ,  0.05939078, -0.178115  ,  0.14628   ,  0.265968  ,\n",
       "        0.057822  ,  0.2560208 , -0.1843158 , -0.2127931 ,  0.312108  ,\n",
       "        0.479494  ,  0.157942  ,  0.113314  , -0.04547126, -0.169932  ,\n",
       "       -0.575756  ,  0.336336  ,  0.2468612 ,  0.1148392 ,  0.3475182 ,\n",
       "       -1.360592  , -0.68252   ,  0.218984  ,  0.4459204 , -0.3003208 ,\n",
       "        2.027504  ,  0.174394  , -0.17413   , -0.438442  , -0.155947  ,\n",
       "       -0.2054892 ,  0.109008  ,  0.1422782 ,  0.368612  , -0.252406  ,\n",
       "       -0.13916448,  0.260114  ,  0.0724464 ,  0.5174178 , -0.0187284 ,\n",
       "        0.022978  ,  0.058023  , -0.149932  ,  0.003832  ,  0.47312   ])"
      ]
     },
     "execution_count": 27,
     "metadata": {},
     "output_type": "execute_result"
    }
   ],
   "source": [
    "gs._get_sentence_emb(\"What is (are) Glaucoma ?\")"
   ]
  },
  {
   "cell_type": "code",
   "execution_count": 28,
   "id": "f9f1e375-11e1-4de5-9ed2-05c89823c2af",
   "metadata": {},
   "outputs": [
    {
     "data": {
      "text/plain": [
       "\"Glaucoma is a group of diseases that can damage the eye's optic nerve and result in vision loss and blindness. The most common form of the disease is open-angle glaucoma. With early treatment, you can often protect your eyes against serious vision loss. (Watch the video to learn more about glaucoma. To enlarge the video, click the brackets in the lower right-hand corner. To reduce the video, press the Escape (Esc) button on your keyboard.)  See this graphic for a quick overview of glaucoma, including how many people it affects, whos at risk, what to do if you have it, and how to learn more.  See a glossary of glaucoma terms.\""
      ]
     },
     "execution_count": 28,
     "metadata": {},
     "output_type": "execute_result"
    }
   ],
   "source": [
    "gs(\"What is (are) Glaucoma ?\")"
   ]
  },
  {
   "cell_type": "code",
   "execution_count": null,
   "id": "60f5df1b-a22f-4e2a-94f6-a8b325b90d9a",
   "metadata": {},
   "outputs": [],
   "source": []
  }
 ],
 "metadata": {
  "kernelspec": {
   "display_name": "Python 3 (ipykernel)",
   "language": "python",
   "name": "python3"
  },
  "language_info": {
   "codemirror_mode": {
    "name": "ipython",
    "version": 3
   },
   "file_extension": ".py",
   "mimetype": "text/x-python",
   "name": "python",
   "nbconvert_exporter": "python",
   "pygments_lexer": "ipython3",
   "version": "3.13.5"
  }
 },
 "nbformat": 4,
 "nbformat_minor": 5
}
